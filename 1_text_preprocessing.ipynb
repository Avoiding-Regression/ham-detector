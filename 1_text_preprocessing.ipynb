{
 "cells": [
  {
   "cell_type": "code",
   "execution_count": 1,
   "metadata": {},
   "outputs": [],
   "source": [
    "from collections import Counter\n",
    "import pandas as pd\n",
    "from nltk.tokenize import word_tokenize\n",
    "import string\n",
    "import nltk\n",
    "from nltk.util import ngrams\n",
    "from nltk.corpus import stopwords\n",
    "from nltk.stem import PorterStemmer, WordNetLemmatizer\n",
    "from num2words import num2words\n",
    "import re\n",
    "import contractions\n",
    "from sklearn.feature_extraction.text import CountVectorizer"
   ]
  },
  {
   "cell_type": "code",
   "execution_count": 2,
   "metadata": {},
   "outputs": [],
   "source": [
    "df = pd.read_csv('./data/spam.csv', encoding='ISO-8859-1')"
   ]
  },
  {
   "cell_type": "code",
   "execution_count": 3,
   "metadata": {},
   "outputs": [],
   "source": [
    "def text_lower(words:str)->str:\n",
    "    \"\"\"\n",
    "    Lowers all text within the word:\n",
    "\n",
    "    Args:\n",
    "        words (str): The input is a word that may have any sort of capitalization\n",
    "    Returns:\n",
    "        str: The same word will be returned but it will all be in lower case\n",
    "    \"\"\"\n",
    "    return words.lower()"
   ]
  },
  {
   "cell_type": "code",
   "execution_count": 4,
   "metadata": {},
   "outputs": [],
   "source": [
    "df['v2']=df['v2'].apply(text_lower)"
   ]
  },
  {
   "cell_type": "code",
   "execution_count": 5,
   "metadata": {},
   "outputs": [],
   "source": [
    "df= df[['v1','v2']]"
   ]
  },
  {
   "cell_type": "code",
   "execution_count": 6,
   "metadata": {},
   "outputs": [],
   "source": [
    "def remove_punctuation(text:str)->str:\n",
    "    \"\"\"\n",
    "    Removes any puncutations from the text data \n",
    "\n",
    "    Args:\n",
    "        text (str): The input text that needs to have punctuations removed\n",
    "    Returns:\n",
    "        str: The same text with removed punctuations\n",
    "    \"\"\"\n",
    "    return text.translate(str.maketrans('','', string.punctuation))"
   ]
  },
  {
   "cell_type": "code",
   "execution_count": 7,
   "metadata": {},
   "outputs": [],
   "source": [
    "df['v2'] = df['v2'].apply(remove_punctuation)"
   ]
  },
  {
   "cell_type": "code",
   "execution_count": 8,
   "metadata": {},
   "outputs": [],
   "source": [
    "df['token'] = df['v2'].apply(word_tokenize)"
   ]
  },
  {
   "cell_type": "code",
   "execution_count": 9,
   "metadata": {},
   "outputs": [
    {
     "data": {
      "text/html": [
       "<div>\n",
       "<style scoped>\n",
       "    .dataframe tbody tr th:only-of-type {\n",
       "        vertical-align: middle;\n",
       "    }\n",
       "\n",
       "    .dataframe tbody tr th {\n",
       "        vertical-align: top;\n",
       "    }\n",
       "\n",
       "    .dataframe thead th {\n",
       "        text-align: right;\n",
       "    }\n",
       "</style>\n",
       "<table border=\"1\" class=\"dataframe\">\n",
       "  <thead>\n",
       "    <tr style=\"text-align: right;\">\n",
       "      <th></th>\n",
       "      <th>v1</th>\n",
       "      <th>v2</th>\n",
       "      <th>token</th>\n",
       "    </tr>\n",
       "  </thead>\n",
       "  <tbody>\n",
       "    <tr>\n",
       "      <th>0</th>\n",
       "      <td>ham</td>\n",
       "      <td>go until jurong point crazy available only in ...</td>\n",
       "      <td>[go, until, jurong, point, crazy, available, o...</td>\n",
       "    </tr>\n",
       "    <tr>\n",
       "      <th>1</th>\n",
       "      <td>ham</td>\n",
       "      <td>ok lar joking wif u oni</td>\n",
       "      <td>[ok, lar, joking, wif, u, oni]</td>\n",
       "    </tr>\n",
       "    <tr>\n",
       "      <th>2</th>\n",
       "      <td>spam</td>\n",
       "      <td>free entry in 2 a wkly comp to win fa cup fina...</td>\n",
       "      <td>[free, entry, in, 2, a, wkly, comp, to, win, f...</td>\n",
       "    </tr>\n",
       "    <tr>\n",
       "      <th>3</th>\n",
       "      <td>ham</td>\n",
       "      <td>u dun say so early hor u c already then say</td>\n",
       "      <td>[u, dun, say, so, early, hor, u, c, already, t...</td>\n",
       "    </tr>\n",
       "    <tr>\n",
       "      <th>4</th>\n",
       "      <td>ham</td>\n",
       "      <td>nah i dont think he goes to usf he lives aroun...</td>\n",
       "      <td>[nah, i, dont, think, he, goes, to, usf, he, l...</td>\n",
       "    </tr>\n",
       "  </tbody>\n",
       "</table>\n",
       "</div>"
      ],
      "text/plain": [
       "     v1                                                 v2  \\\n",
       "0   ham  go until jurong point crazy available only in ...   \n",
       "1   ham                            ok lar joking wif u oni   \n",
       "2  spam  free entry in 2 a wkly comp to win fa cup fina...   \n",
       "3   ham        u dun say so early hor u c already then say   \n",
       "4   ham  nah i dont think he goes to usf he lives aroun...   \n",
       "\n",
       "                                               token  \n",
       "0  [go, until, jurong, point, crazy, available, o...  \n",
       "1                     [ok, lar, joking, wif, u, oni]  \n",
       "2  [free, entry, in, 2, a, wkly, comp, to, win, f...  \n",
       "3  [u, dun, say, so, early, hor, u, c, already, t...  \n",
       "4  [nah, i, dont, think, he, goes, to, usf, he, l...  "
      ]
     },
     "execution_count": 9,
     "metadata": {},
     "output_type": "execute_result"
    }
   ],
   "source": [
    "df.head()"
   ]
  },
  {
   "cell_type": "code",
   "execution_count": 10,
   "metadata": {},
   "outputs": [],
   "source": [
    "def stopword_removal(token:list)->list:\n",
    "    \"\"\"\n",
    "    This function will remove any stopwords from the english language from a tokenized list\n",
    "    \n",
    "    Arg (list): \n",
    "        Token of a list of words to have the stop words be removed\n",
    "    Return:\n",
    "        Returns the list of tokens with stop words removed\n",
    "\n",
    "    \"\"\"\n",
    "    stop_words = set(stopwords.words('english'))\n",
    "    tokens = [word for word in token if word not in stop_words]\n",
    "    return tokens "
   ]
  },
  {
   "cell_type": "code",
   "execution_count": 11,
   "metadata": {},
   "outputs": [],
   "source": [
    "df['token'] = df['token'].apply(stopword_removal)"
   ]
  },
  {
   "cell_type": "code",
   "execution_count": 12,
   "metadata": {},
   "outputs": [],
   "source": [
    "def stem_lem(token:list)->list:\n",
    "    \"\"\"\n",
    "    Conducts stemming and lemmatization on tokens to ensure word precise word definitions\n",
    "    Arg (list): \n",
    "        Tokenized list of words to be lemmed and stemmed\n",
    "    Return:\n",
    "        Returns the list of tokens with stemmed and lemmed words\n",
    "    \"\"\"\n",
    "\n",
    "    stemmer = PorterStemmer()\n",
    "    lemmatizer = WordNetLemmatizer()\n",
    "    tokens = [stemmer.stem(word) for word in token]\n",
    "    tokens = [lemmatizer.lemmatize(word) for word in token]\n",
    "    return tokens"
   ]
  },
  {
   "cell_type": "code",
   "execution_count": 13,
   "metadata": {},
   "outputs": [],
   "source": [
    "df['token'] = df['token'].apply(stem_lem)"
   ]
  },
  {
   "cell_type": "code",
   "execution_count": 14,
   "metadata": {},
   "outputs": [],
   "source": [
    "def convert_tokens_to_words(tokens:list)-> list:\n",
    "    \"\"\"\n",
    "    Convert any numeric tokens in a list of tokens to their word equivalents using num2words.\n",
    "    \n",
    "    Args:\n",
    "        tokens (list): A list of tokenized strings.\n",
    "        \n",
    "    Returns:\n",
    "        list: A list with numeric tokens converted to words.\n",
    "    \"\"\"\n",
    "    \n",
    "    # Convert each token\n",
    "    converted_tokens = [num2words(int(token)) if token.isdigit() else token for token in tokens]\n",
    "    \n",
    "    return converted_tokens\n",
    "\n"
   ]
  },
  {
   "cell_type": "code",
   "execution_count": 15,
   "metadata": {},
   "outputs": [],
   "source": [
    "df['token'] = df['token'].apply(convert_tokens_to_words)"
   ]
  },
  {
   "cell_type": "code",
   "execution_count": 16,
   "metadata": {},
   "outputs": [],
   "source": [
    "def remove_whitespace(tokens:list)->list:\n",
    "    \"\"\"\n",
    "    removes any white space within the token any numeric tokens in a list of tokens to their word equivalents using num2words.\n",
    "    \n",
    "    Args:\n",
    "        tokens (list): A list of tokenized strings.\n",
    "        \n",
    "    Returns:\n",
    "        list: A list wtokens with extra white space removed.\n",
    "    \"\"\"\n",
    "    cleaned_tokens = [token.strip() for token in tokens]\n",
    "\n",
    "    return cleaned_tokens"
   ]
  },
  {
   "cell_type": "code",
   "execution_count": 17,
   "metadata": {},
   "outputs": [],
   "source": [
    "df['token'] = df['token'].apply(remove_whitespace)"
   ]
  },
  {
   "cell_type": "code",
   "execution_count": 18,
   "metadata": {},
   "outputs": [],
   "source": [
    "def remove_specialchar(tokens:list)->list:\n",
    "    \"\"\"\n",
    "    removes any white space within the token any numeric tokens in a list of tokens to their word equivalents using num2words.\n",
    "    \n",
    "    Args:\n",
    "        tokens (list): A list of tokenized strings.\n",
    "        \n",
    "    Returns:\n",
    "        list: A list tokens with special characters removed.\n",
    "\n",
    "    \"\"\"\n",
    "    cleaned_tokens = [re.sub(r'[^a-zA-Z\\s]', '', token) for token in tokens]\n",
    "\n",
    "    return cleaned_tokens"
   ]
  },
  {
   "cell_type": "code",
   "execution_count": 19,
   "metadata": {},
   "outputs": [],
   "source": [
    "df['token'] = df['token'].apply(remove_specialchar)"
   ]
  },
  {
   "cell_type": "code",
   "execution_count": 60,
   "metadata": {},
   "outputs": [],
   "source": []
  },
  {
   "cell_type": "code",
   "execution_count": 20,
   "metadata": {},
   "outputs": [],
   "source": [
    "def get_ngrams(text, n=2):\n",
    "    \"\"\"\n",
    "    Tokenizes the input text and generates n-grams of the specified size.\n",
    "    \n",
    "    Args:\n",
    "        text (str): The input text to be tokenized and transformed into n-grams.\n",
    "        n (int): The number of tokens to include in each n-gram (default is 2, meaning bigrams).\n",
    "\n",
    "    Returns:\n",
    "        list: A list of n-grams, where each n-gram is a string of `n` consecutive tokens. Only n-grams\n",
    "        containing alphabetic characters are included (e.g., no numbers or special characters).\n",
    "        \n",
    "    \"\"\"\n",
    "    # Ensure the input is a string\n",
    "    if not isinstance(text, str):\n",
    "        return []\n",
    "    \n",
    "    # Tokenize and create n-grams\n",
    "    tokens = word_tokenize(text.lower())  # This is where 'punkt' is needed\n",
    "    n_grams = ngrams(tokens, n)\n",
    "    \n",
    "    # Return n-grams that only contain alphabetic tokens\n",
    "    return [' '.join(grams) for grams in n_grams if all(word.isalpha() for word in grams)]\n"
   ]
  },
  {
   "cell_type": "code",
   "execution_count": 21,
   "metadata": {},
   "outputs": [],
   "source": [
    "#Tokenizing and separateing relative to 3 grams and doing a frequnecy count just to see what words are commonly used with each other\n",
    "df['trigrams'] = df['v2'].apply(lambda x: get_ngrams(x,n=3))\n",
    "all_trigrams = [trigram for trigrams in df['trigrams'] for trigram in trigrams]\n",
    "trigram_freq = Counter(all_trigrams)"
   ]
  },
  {
   "cell_type": "code",
   "execution_count": null,
   "metadata": {},
   "outputs": [],
   "source": []
  }
 ],
 "metadata": {
  "kernelspec": {
   "display_name": "env",
   "language": "python",
   "name": "python3"
  },
  "language_info": {
   "codemirror_mode": {
    "name": "ipython",
    "version": 3
   },
   "file_extension": ".py",
   "mimetype": "text/x-python",
   "name": "python",
   "nbconvert_exporter": "python",
   "pygments_lexer": "ipython3",
   "version": "3.11.4"
  }
 },
 "nbformat": 4,
 "nbformat_minor": 2
}
